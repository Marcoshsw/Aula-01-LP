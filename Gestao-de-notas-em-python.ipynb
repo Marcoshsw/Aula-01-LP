!pip install tkinterhtml # Instalar a biblioteca tkinterhtml

import tkinter as tk
import tkinterhtml as tkhtml

# ... (resto do seu código)

# Criação da janela principal
janela = tk.Tk()
janela.title("Sistema de Gestão de Notas")

# ... (outros elementos da interface)

# Widget para exibir a interface no navegador
view = tkhtml.HtmlFrame(janela)
view.pack(fill="both", expand=True)

# URL para exibir a interface (geralmente localhost)
view.set_content(f"<html><body><h1>Interface aqui</h1></body></html>") # Substitua pelo conteúdo real da sua interface

janela.mainloop()
!pip install remi # Instalar a biblioteca remi

import remi.gui as gui
from remi import start, App

class MyApp(App):
    def __init__(self, *args):
        super(MyApp, self).__init__(*args)

    def main(self):
        # Crie os elementos da sua interface aqui usando widgets do remi.gui
        # ...

        return container # Retorne o contêiner principal da sua interface

# Inicie o aplicativo REMI
start(MyApp)
!pip install textual # Instalar a biblioteca textual

from textual.app import App
from textual.widgets import Label, Input

class MyApp(App):
    def __init__(self):
        super().__init__()
        self.nome_aluno = ""
        self.notas = []

    def on_mount(self):
        self.label_nome = Label("Nome do Aluno:")
        self.input_nome = Input(placeholder="Digite o nome")
        self.label_notas = Label("Notas (separadas por vírgula):")
        self.input_notas = Input(placeholder="Digite as notas")

        self.mount(
            self.label_nome,
            self.input_nome,
            self.label_notas,
            self.input_notas,
        )

    def on_input_submitted(self, event):
        if event.sender is self.input_nome:
            self.nome_aluno = event.value
        elif event.sender is self.input_notas:
            try:
                self.notas = [float(nota) for nota in event.value.split(",")]
                media = sum(self.notas) / len(self.notas)
                situacao = "Aprovado" if media >= 7 else "Reprovado"
                self.label_resultado.update(f"{self.nome_aluno}: Média = {media:.2f}, Situação = {situacao}")
            except ValueError:
                self.label_resultado.update("Erro: Insira notas válidas separadas por vírgula.")

if __name__ == "__main__":
    app = MyApp()
    app.run()
