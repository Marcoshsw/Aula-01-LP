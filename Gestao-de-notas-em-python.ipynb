!pip install textual # Instalar a biblioteca textual

from textual.app import App
from textual.widgets import Label, Input

class MyApp(App):
    def __init__(self):
        super().__init__()
        self.nome_aluno = ""
        self.notas = []

    def on_mount(self):
        self.label_nome = Label("Nome do Aluno:")
        self.input_nome = Input(placeholder="Digite o nome")
        self.label_notas = Label("Notas (separadas por vírgula):")
        self.input_notas = Input(placeholder="Digite as notas")

        self.mount(
            self.label_nome,
            self.input_nome,
            self.label_notas,
            self.input_notas,
        )

    def on_input_submitted(self, event):
        if event.sender is self.input_nome:
            self.nome_aluno = event.value
        elif event.sender is self.input_notas:
            try:
                self.notas = [float(nota) for nota in event.value.split(",")]
                media = sum(self.notas) / len(self.notas)
                situacao = "Aprovado" if media >= 7 else "Reprovado"
                self.label_resultado.update(f"{self.nome_aluno}: Média = {media:.2f}, Situação = {situacao}")
            except ValueError:
                self.label_resultado.update("Erro: Insira notas válidas separadas por vírgula.")

if __name__ == "__main__":
    app = MyApp()
    app.run()
